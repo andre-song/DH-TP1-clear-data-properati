{
 "cells": [
  {
   "cell_type": "markdown",
   "metadata": {},
   "source": [
    "# Digital House - Trabajo Práctico Nº1\n",
    "## Desafío 1. Análisis exploratorio de un dataset de precios de propiedades\n",
    "Grupo Nª2\n",
    "Alumnos:\n",
    "* Alberto Paparelli\n",
    "* André Song\n",
    "* Marianela Riz\n",
    "* Gloria Caravajal\n",
    "* Franco Emanuel Rodriguez\n",
    "* Iván Axel Schweizer\n",
    "\n",
    "Objetivos:\n",
    "* Efectuar una limpieza del dataset provisto. Particularmente, deberá diseñar estrategias para lidiar con los datos perdidos en ciertas variables.\n",
    "* Realizar un análisis descriptivo de las principales variables.\n",
    "* Crear nuevas columnas a partir de las características dadas que puedan tener valor\n",
    "predictivo."
   ]
  },
  {
   "cell_type": "code",
   "execution_count": 3,
   "metadata": {},
   "outputs": [],
   "source": [
    "# Lo primero que hacemos es importar todas las librerias necesarias.\n",
    "import pandas as pd"
   ]
  },
  {
   "cell_type": "code",
   "execution_count": 36,
   "metadata": {},
   "outputs": [
    {
     "data": {
      "text/html": [
       "<div>\n",
       "<style scoped>\n",
       "    .dataframe tbody tr th:only-of-type {\n",
       "        vertical-align: middle;\n",
       "    }\n",
       "\n",
       "    .dataframe tbody tr th {\n",
       "        vertical-align: top;\n",
       "    }\n",
       "\n",
       "    .dataframe thead th {\n",
       "        text-align: right;\n",
       "    }\n",
       "</style>\n",
       "<table border=\"1\" class=\"dataframe\">\n",
       "  <thead>\n",
       "    <tr style=\"text-align: right;\">\n",
       "      <th></th>\n",
       "      <th></th>\n",
       "      <th></th>\n",
       "      <th></th>\n",
       "      <th></th>\n",
       "      <th></th>\n",
       "      <th></th>\n",
       "      <th></th>\n",
       "      <th></th>\n",
       "      <th></th>\n",
       "      <th></th>\n",
       "      <th></th>\n",
       "      <th></th>\n",
       "      <th>Unnamed;operation;property_type;place_name;place_with_parent_names;country_name;state_name;geonames_id;lat-lon;;lon;price;currency;price_aprox_local_currency;price_aprox_usd;surface_total_in_m2;surface_covered_in_m2;price_usd_per_m2;price_per_m2;floor;rooms;expenses;properati_url;description;title;image_thumbnail</th>\n",
       "    </tr>\n",
       "  </thead>\n",
       "  <tbody>\n",
       "    <tr>\n",
       "      <th>1782;sell;apartment;San Miguel de Tucumán;|Argentina|Tucumán|San Miguel de Tucumán|;Argentina;Tucumán;3836873.0;-26.82392883</th>\n",
       "      <th>-65.21102905;-2.682.392.883;-6.521.102.905;;;;;;58.0;;;;2.0;;http://www.properati.com.ar/15jdu_venta_departamento_san-miguel-de-tucuman_catamarca_400_balcon_luminoso_lujoso_dependencias_maixvert;Departamento de dos dormitorios. Estado general excelente. Living comedor</th>\n",
       "      <th>dormitorios luminosos.Placares</th>\n",
       "      <th>cocina separada</th>\n",
       "      <th>dependencia de servicio. Balcón corrido al frente. Palier privado. Las consultas las recibimos al 3816990965;$ 1.600.000 - Departamento en Venta - Catamarca     400;https://thumbs4.properati.com/3/PwLGq8dDlz0HODFe5EjOa1KGZZA=/trim/198x0/smart/filters:strip_icc()/ar.maixon.com/img/properties/large_nopic.jpg</th>\n",
       "      <th>NaN</th>\n",
       "      <th>NaN</th>\n",
       "      <th>NaN</th>\n",
       "      <th>NaN</th>\n",
       "      <th>NaN</th>\n",
       "      <th>NaN</th>\n",
       "      <th>NaN</th>\n",
       "      <th>NaN</th>\n",
       "      <td>NaN</td>\n",
       "    </tr>\n",
       "    <tr>\n",
       "      <th>16</th>\n",
       "      <th>83%;;;;;;;;;;;;;;;;;;;;;;;;;</th>\n",
       "      <th>NaN</th>\n",
       "      <th>NaN</th>\n",
       "      <th>NaN</th>\n",
       "      <th>NaN</th>\n",
       "      <th>NaN</th>\n",
       "      <th>NaN</th>\n",
       "      <th>NaN</th>\n",
       "      <th>NaN</th>\n",
       "      <th>NaN</th>\n",
       "      <th>NaN</th>\n",
       "      <th>NaN</th>\n",
       "      <td>NaN</td>\n",
       "    </tr>\n",
       "    <tr>\n",
       "      <th>6585;sell;apartment;Mar del Plata;|Argentina|Buenos Aires Costa Atlántica|Mar del Plata|;Argentina;Buenos Aires Costa Atlántica;3430863.0;-38.0599793324</th>\n",
       "      <th>-57.5688268238;-380.599.793.324;-575.688.268.238;110000.0;USD;1940895.0;110000.0;;80.0;;1375.0;;3.0;;http://www.properati.com.ar/15utr_venta_departamento_mar-del-plata_jardin_toilette_sanchez-marsico-propiedades;Venta Dúplex 3 ambientes y Buhardilla</th>\n",
       "      <th>con jardín y entrada de auto. Desarrollado en dos plantas</th>\n",
       "      <th>cuenta con entrada para autos con reja al frente</th>\n",
       "      <th>living-comedor con pisos de porcelanato</th>\n",
       "      <th>cocina incorporada con buen desarrollo de mesada</th>\n",
       "      <th>toilete y jardín de 30 m2 al contra frente.  En planta alta 2 dormitorios con placar y pisos de madera</th>\n",
       "      <th>baño completo y buhardilla.   Gastos  a cargo del comprador.;VENTA DUPLEX  COLINAS P.RAMOS;https://thumbs4.properati.com/0/JwavW2KqDAgwerNwnH3Y00J27NA=/trim/198x0/smart/filters:strip_icc()/inmokey-media.s3-website-sa-east-1.amazonaws.com/properties/5/8/p-188458-170217060856-771972.jpg</th>\n",
       "      <th>NaN</th>\n",
       "      <th>NaN</th>\n",
       "      <th>NaN</th>\n",
       "      <th>NaN</th>\n",
       "      <th>NaN</th>\n",
       "      <td>NaN</td>\n",
       "    </tr>\n",
       "    <tr>\n",
       "      <th>896;sell;house;Pinamar;|Argentina|Buenos Aires Costa Atlántica|Pinamar|;Argentina;Buenos Aires Costa Atlántica;3429971.0;-37.088485561</th>\n",
       "      <th>-56.8362876476;-37.088.485.561;-568.362.876.476;395000.0;USD;6969577.5;395000.0;1091.0;250.0;3.620.531.622.364.800;1580.0;;5.0;;http://www.properati.com.ar/15ges_venta_casa_pinamar_suite_lavadero_parrilla_piscina_vestidor_aire-acondicionado_losa-radiante_balmoral-propiedades;Cul de Sac de Céfiro: Tipo americana</th>\n",
       "      <th>en PB. 3 Dorm. (1 suite). Hab. Huésp. 3 Baños.  Piscina climatizada TIPOLOGIA.- Chalet racionalista americana en planta baja en lote de 1.091 m2.</th>\n",
       "      <th>en zona tranquila y a 3 cuadras del mar.PROGRAMA HABITACIONAL y COMODIDADES:Planta Baja: Hall-living - comedor con hogar y salida a zona piscina;;</th>\n",
       "      <th>NaN</th>\n",
       "      <th>NaN</th>\n",
       "      <th>NaN</th>\n",
       "      <th>NaN</th>\n",
       "      <th>NaN</th>\n",
       "      <th>NaN</th>\n",
       "      <th>NaN</th>\n",
       "      <th>NaN</th>\n",
       "      <th>NaN</th>\n",
       "      <td>NaN</td>\n",
       "    </tr>\n",
       "    <tr>\n",
       "      <th>3279;sell;house;San Martín de los Andes;|Argentina|Neuquén|San Martín de los Andes|;Argentina;Neuquén;3836951.0;-40.15114975</th>\n",
       "      <th>-71.34361267;-4.015.114.975;-7.134.361.267;;;;;305.0;114.0;;;;2.0;;http://www.properati.com.ar/15l01_venta_casa_san-martin-de-los-andes_los-robles_200_jardin_luminoso_amoblado_r-tavella-inmuebles_ema;Living c/hogar</th>\n",
       "      <th>cocina amoblada y comedor diario</th>\n",
       "      <th>2 dormitorios grandes y 2 baños. Vidrios dobles</th>\n",
       "      <th>jardín</th>\n",
       "      <th>loza radiante. FM2525/3Información Adicional: Luminosidad: Muy luminoso;U$D 178.000 - Casa en Venta - Los Robles     200;https://thumbs4.properati.com/0/peC2jM38p7Zq33bMY0n7_w1GmzI=/trim/198x0/smart/filters:strip_icc()/ar.maixon.com/img/properties/extra_large_57e051f35db5a.jpg</th>\n",
       "      <th>NaN</th>\n",
       "      <th>NaN</th>\n",
       "      <th>NaN</th>\n",
       "      <th>NaN</th>\n",
       "      <th>NaN</th>\n",
       "      <th>NaN</th>\n",
       "      <th>NaN</th>\n",
       "      <td>NaN</td>\n",
       "    </tr>\n",
       "    <tr>\n",
       "      <th>4365;sell;house;Nordelta;|Argentina|Bs.As. G.B.A. Zona Norte|Tigre|Nordelta|;Argentina;Bs.As. G.B.A. Zona Norte;;;;;590000.0;USD;10410255.0;590000.0;675.0;343.0;8.740.740.740.740.730;1.720.116.618.075.800;;;;http://www.properati.com.ar/15mm6_venta_casa_nordelta_200_suite_hidromasaje_lavadero_parrilla_piscina_vestidor_vista_dependencias_aire-acondicionado_losa-radiante_ricardo-douer;AL LAGO! Excelente orientacion! Hall de entrada</th>\n",
       "      <th>living comedor</th>\n",
       "      <th>excelente family con salida a galeria</th>\n",
       "      <th>muy buena cocina con comedor diario</th>\n",
       "      <th>lavadero</th>\n",
       "      <th>dependencia de servicio con baÃ±o completo.PA: cuatro dormitorios amplios en suite con vestidores. La suite principal con jacuzzi doble. Hermosa Vista al lago.GalerÃ­a con parrilla</th>\n",
       "      <th>pileta.Calefaccion por losa radiante. Aire acondicionado split en cada ambiente.;Casa 675m² con Teléfono</th>\n",
       "      <th>Tigre</th>\n",
       "      <th>Nordelta</th>\n",
       "      <th>por U$S 590.000;https://thumbs4.properati.com/8/1J035XVfE17XrISqH3QBA7okktE=/trim/198x0/smart/filters:strip_icc()/sistemadixon.com/get/img_properati.php%3Fc=3204649&amp;n=0&amp;w=800&amp;h=600</th>\n",
       "      <th>NaN</th>\n",
       "      <th>NaN</th>\n",
       "      <th>NaN</th>\n",
       "      <td>NaN</td>\n",
       "    </tr>\n",
       "  </tbody>\n",
       "</table>\n",
       "</div>"
      ],
      "text/plain": [
       "                                                                                                                                                                                                                                                                                                                                                                                                                                                                                                 Unnamed;operation;property_type;place_name;place_with_parent_names;country_name;state_name;geonames_id;lat-lon;;lon;price;currency;price_aprox_local_currency;price_aprox_usd;surface_total_in_m2;surface_covered_in_m2;price_usd_per_m2;price_per_m2;floor;rooms;expenses;properati_url;description;title;image_thumbnail\n",
       "1782;sell;apartment;San Miguel de Tucumán;|Arge... -65.21102905;-2.682.392.883;-6.521.102.905;;;;;...  dormitorios luminosos.Placares                     cocina separada                                    dependencia de servicio. Balcón corrido al fre... NaN                                                NaN                                                NaN                                                NaN       NaN                                                NaN NaN NaN                                                NaN                                                                                                                                                                                                                                                                        \n",
       "16                                                 83%;;;;;;;;;;;;;;;;;;;;;;;;;                       NaN                                                NaN                                                NaN                                                NaN                                                NaN                                                NaN                                                NaN       NaN                                                NaN NaN NaN                                                NaN                                                                                                                                                                                                                                                                        \n",
       "6585;sell;apartment;Mar del Plata;|Argentina|Bu... -57.5688268238;-380.599.793.324;-575.688.268.23...  con jardín y entrada de auto. Desarrollado en ...  cuenta con entrada para autos con reja al frente    living-comedor con pisos de porcelanato           cocina incorporada con buen desarrollo de mesada   toilete y jardín de 30 m2 al contra frente.  E...  baño completo y buhardilla.   Gastos  a cargo ... NaN       NaN                                                NaN NaN NaN                                                NaN                                                                                                                                                                                                                                                                        \n",
       "896;sell;house;Pinamar;|Argentina|Buenos Aires ... -56.8362876476;-37.088.485.561;-568.362.876.476...  en PB. 3 Dorm. (1 suite). Hab. Huésp. 3 Baños....  en zona tranquila y a 3 cuadras del mar.PROGRA... NaN                                                NaN                                                NaN                                                NaN                                                NaN       NaN                                                NaN NaN NaN                                                NaN                                                                                                                                                                                                                                                                        \n",
       "3279;sell;house;San Martín de los Andes;|Argent... -71.34361267;-4.015.114.975;-7.134.361.267;;;;;...  cocina amoblada y comedor diario                   2 dormitorios grandes y 2 baños. Vidrios dobles    jardín                                             loza radiante. FM2525/3Información Adicional: ... NaN                                                NaN                                                NaN       NaN                                                NaN NaN NaN                                                NaN                                                                                                                                                                                                                                                                        \n",
       "4365;sell;house;Nordelta;|Argentina|Bs.As. G.B....  living comedor                                     excelente family con salida a galeria              muy buena cocina con comedor diario                lavadero                                           dependencia de servicio con baÃ±o completo.PA:...  pileta.Calefaccion por losa radiante. Aire aco...  Tigre                                              Nordelta  por U$S 590.000;https://thumbs4.properati.com/... NaN NaN NaN                                                NaN                                                                                                                                                                                                                                                                        "
      ]
     },
     "metadata": {},
     "output_type": "display_data"
    },
    {
     "name": "stdout",
     "output_type": "stream",
     "text": [
      "(Cantidad de Filas, Cantidad de columnas) -> (5365, 1)\n"
     ]
    }
   ],
   "source": [
    "# Abrimos el dataset y hacemos un chequeo rápido para saber cantidad de registros y miramos la composición del mismo.\n",
    "filename = \"../dataset/properati.csv\"\n",
    "data = pd.read_csv(filename, on_bad_lines='skip')\n",
    "display(data.sample(n=6)) \n",
    "print(f\"(Cantidad de Filas, Cantidad de columnas) -> {data.shape}\")"
   ]
  },
  {
   "cell_type": "markdown",
   "metadata": {},
   "source": [
    "# TODO \n",
    "completar análisis de columnas: que columnas hay y que significan cada una.\n"
   ]
  },
  {
   "cell_type": "markdown",
   "metadata": {},
   "source": [
    "Analizamos contenido de las columnas que creemos que pueden eliminarse."
   ]
  },
  {
   "cell_type": "code",
   "execution_count": 34,
   "metadata": {},
   "outputs": [
    {
     "ename": "AttributeError",
     "evalue": "'DataFrame' object has no attribute 'operation'",
     "output_type": "error",
     "traceback": [
      "\u001b[1;31m---------------------------------------------------------------------------\u001b[0m",
      "\u001b[1;31mAttributeError\u001b[0m                            Traceback (most recent call last)",
      "Input \u001b[1;32mIn [34]\u001b[0m, in \u001b[0;36m<cell line: 2>\u001b[1;34m()\u001b[0m\n\u001b[0;32m      1\u001b[0m \u001b[38;5;66;03m# Columna operation: revisamos que opciones tiene, o si se repite lo mismo.\u001b[39;00m\n\u001b[1;32m----> 2\u001b[0m \u001b[38;5;28mprint\u001b[39m(\u001b[38;5;124mf\u001b[39m\u001b[38;5;124m'\u001b[39m\u001b[38;5;124mCantidad de registros con NaN: \u001b[39m\u001b[38;5;132;01m{\u001b[39;00mdata\u001b[38;5;241m.\u001b[39moperation\u001b[38;5;241m.\u001b[39misnull()\u001b[38;5;241m.\u001b[39msum()\u001b[38;5;132;01m}\u001b[39;00m\u001b[38;5;124m'\u001b[39m)\n\u001b[0;32m      3\u001b[0m \u001b[38;5;28mprint\u001b[39m(\u001b[38;5;124m\"\u001b[39m\u001b[38;5;124mContamos cantidad de registros unicos:\u001b[39m\u001b[38;5;124m\"\u001b[39m)\n\u001b[0;32m      4\u001b[0m \u001b[38;5;28mprint\u001b[39m(data\u001b[38;5;241m.\u001b[39mgroupby([\u001b[38;5;124m'\u001b[39m\u001b[38;5;124moperation\u001b[39m\u001b[38;5;124m'\u001b[39m])\u001b[38;5;241m.\u001b[39msize()\u001b[38;5;241m.\u001b[39mreset_index(name\u001b[38;5;241m=\u001b[39m\u001b[38;5;124m'\u001b[39m\u001b[38;5;124mcount\u001b[39m\u001b[38;5;124m'\u001b[39m))\n",
      "File \u001b[1;32m~\\anaconda\\lib\\site-packages\\pandas\\core\\generic.py:5575\u001b[0m, in \u001b[0;36mNDFrame.__getattr__\u001b[1;34m(self, name)\u001b[0m\n\u001b[0;32m   5568\u001b[0m \u001b[38;5;28;01mif\u001b[39;00m (\n\u001b[0;32m   5569\u001b[0m     name \u001b[38;5;129;01mnot\u001b[39;00m \u001b[38;5;129;01min\u001b[39;00m \u001b[38;5;28mself\u001b[39m\u001b[38;5;241m.\u001b[39m_internal_names_set\n\u001b[0;32m   5570\u001b[0m     \u001b[38;5;129;01mand\u001b[39;00m name \u001b[38;5;129;01mnot\u001b[39;00m \u001b[38;5;129;01min\u001b[39;00m \u001b[38;5;28mself\u001b[39m\u001b[38;5;241m.\u001b[39m_metadata\n\u001b[0;32m   5571\u001b[0m     \u001b[38;5;129;01mand\u001b[39;00m name \u001b[38;5;129;01mnot\u001b[39;00m \u001b[38;5;129;01min\u001b[39;00m \u001b[38;5;28mself\u001b[39m\u001b[38;5;241m.\u001b[39m_accessors\n\u001b[0;32m   5572\u001b[0m     \u001b[38;5;129;01mand\u001b[39;00m \u001b[38;5;28mself\u001b[39m\u001b[38;5;241m.\u001b[39m_info_axis\u001b[38;5;241m.\u001b[39m_can_hold_identifiers_and_holds_name(name)\n\u001b[0;32m   5573\u001b[0m ):\n\u001b[0;32m   5574\u001b[0m     \u001b[38;5;28;01mreturn\u001b[39;00m \u001b[38;5;28mself\u001b[39m[name]\n\u001b[1;32m-> 5575\u001b[0m \u001b[38;5;28;01mreturn\u001b[39;00m \u001b[38;5;28;43mobject\u001b[39;49m\u001b[38;5;241;43m.\u001b[39;49m\u001b[38;5;21;43m__getattribute__\u001b[39;49m\u001b[43m(\u001b[49m\u001b[38;5;28;43mself\u001b[39;49m\u001b[43m,\u001b[49m\u001b[43m \u001b[49m\u001b[43mname\u001b[49m\u001b[43m)\u001b[49m\n",
      "\u001b[1;31mAttributeError\u001b[0m: 'DataFrame' object has no attribute 'operation'"
     ]
    }
   ],
   "source": [
    "# Columna operation: revisamos que opciones tiene, o si se repite lo mismo.\n",
    "print(f'Cantidad de registros con NaN: {data.operation.isnull().sum()}')\n",
    "print(\"Contamos cantidad de registros unicos:\")\n",
    "print(data.groupby(['operation']).size().reset_index(name='count'))\n"
   ]
  },
  {
   "cell_type": "markdown",
   "metadata": {},
   "source": [
    "Detalle de análisis de columnas:\n",
    "* `operation` -> Vemos que no tiene NaNs y solo tiene la opción `sell`. Por este motivo la vamos a eliminar."
   ]
  },
  {
   "cell_type": "code",
   "execution_count": 1,
   "metadata": {},
   "outputs": [
    {
     "name": "stdout",
     "output_type": "stream",
     "text": [
      "Hola gloria\n"
     ]
    }
   ],
   "source": [
    "print(\"Hola gloria\")"
   ]
  }
 ],
 "metadata": {
  "kernelspec": {
   "display_name": "Python 3 (ipykernel)",
   "language": "python",
   "name": "python3"
  },
  "language_info": {
   "codemirror_mode": {
    "name": "ipython",
    "version": 3
   },
   "file_extension": ".py",
   "mimetype": "text/x-python",
   "name": "python",
   "nbconvert_exporter": "python",
   "pygments_lexer": "ipython3",
   "version": "3.9.6"
  },
  "vscode": {
   "interpreter": {
    "hash": "5edc29c2ed010d6458d71a83433b383a96a8cbd3efe8531bc90c4b8a5b8bcec9"
   }
  }
 },
 "nbformat": 4,
 "nbformat_minor": 4
}

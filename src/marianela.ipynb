{
 "cells": [
  {
   "cell_type": "markdown",
   "metadata": {},
   "source": [
    "# Digital House - Trabajo Práctico Nº1\n",
    "## Desafío 1. Análisis exploratorio de un dataset de precios de propiedades\n",
    "Grupo Nª2\n",
    "Alumnos:\n",
    "* Alberto Paparelli\n",
    "* André Song\n",
    "* Marianela Riz\n",
    "* Gloria Caravajal\n",
    "* Franco Emanuel Rodriguez\n",
    "* Iván Axel Schweizer\n",
    "\n",
    "Objetivos:\n",
    "* Efectuar una limpieza del dataset provisto. Particularmente, deberá diseñar estrategias para lidiar con los datos perdidos en ciertas variables.\n",
    "* Realizar un análisis descriptivo de las principales variables.\n",
    "* Crear nuevas columnas a partir de las características dadas que puedan tener valor\n",
    "predictivo."
   ]
  },
  {
   "cell_type": "code",
   "execution_count": 13,
   "metadata": {},
   "outputs": [],
   "source": [
    "# Lo primero que hacemos es importar todas las librerias necesarias.\n",
    "import pandas as pd"
   ]
  },
  {
   "cell_type": "code",
   "execution_count": 14,
   "metadata": {},
   "outputs": [
    {
     "data": {
      "text/html": [
       "<div>\n",
       "<style scoped>\n",
       "    .dataframe tbody tr th:only-of-type {\n",
       "        vertical-align: middle;\n",
       "    }\n",
       "\n",
       "    .dataframe tbody tr th {\n",
       "        vertical-align: top;\n",
       "    }\n",
       "\n",
       "    .dataframe thead th {\n",
       "        text-align: right;\n",
       "    }\n",
       "</style>\n",
       "<table border=\"1\" class=\"dataframe\">\n",
       "  <thead>\n",
       "    <tr style=\"text-align: right;\">\n",
       "      <th></th>\n",
       "      <th>Unnamed: 0</th>\n",
       "      <th>operation</th>\n",
       "      <th>property_type</th>\n",
       "      <th>place_name</th>\n",
       "      <th>place_with_parent_names</th>\n",
       "      <th>country_name</th>\n",
       "      <th>state_name</th>\n",
       "      <th>geonames_id</th>\n",
       "      <th>lat-lon</th>\n",
       "      <th>lat</th>\n",
       "      <th>...</th>\n",
       "      <th>surface_covered_in_m2</th>\n",
       "      <th>price_usd_per_m2</th>\n",
       "      <th>price_per_m2</th>\n",
       "      <th>floor</th>\n",
       "      <th>rooms</th>\n",
       "      <th>expenses</th>\n",
       "      <th>properati_url</th>\n",
       "      <th>description</th>\n",
       "      <th>title</th>\n",
       "      <th>image_thumbnail</th>\n",
       "    </tr>\n",
       "  </thead>\n",
       "  <tbody>\n",
       "    <tr>\n",
       "      <th>38920</th>\n",
       "      <td>38920</td>\n",
       "      <td>sell</td>\n",
       "      <td>house</td>\n",
       "      <td>Tigre</td>\n",
       "      <td>|Argentina|Bs.As. G.B.A. Zona Norte|Tigre|</td>\n",
       "      <td>Argentina</td>\n",
       "      <td>Bs.As. G.B.A. Zona Norte</td>\n",
       "      <td>3427753.0</td>\n",
       "      <td>-34.425087,-58.5796585</td>\n",
       "      <td>-34.425087</td>\n",
       "      <td>...</td>\n",
       "      <td>207.0</td>\n",
       "      <td>1254.980080</td>\n",
       "      <td>1521.739130</td>\n",
       "      <td>NaN</td>\n",
       "      <td>NaN</td>\n",
       "      <td>NaN</td>\n",
       "      <td>http://www.properati.com.ar/18mk1_venta_casa_t...</td>\n",
       "      <td>MAO.  Casa de estilo racionalista, desarrollad...</td>\n",
       "      <td>MAO. Muy buena casa en lote interno en el barr...</td>\n",
       "      <td>https://thumbs4.properati.com/5/Z1HKMxpnKRewTh...</td>\n",
       "    </tr>\n",
       "    <tr>\n",
       "      <th>66664</th>\n",
       "      <td>66664</td>\n",
       "      <td>sell</td>\n",
       "      <td>apartment</td>\n",
       "      <td>Ituzaingó</td>\n",
       "      <td>|Argentina|Corrientes|Ituzaingó|</td>\n",
       "      <td>Argentina</td>\n",
       "      <td>Corrientes</td>\n",
       "      <td>3433357.0</td>\n",
       "      <td>NaN</td>\n",
       "      <td>NaN</td>\n",
       "      <td>...</td>\n",
       "      <td>67.0</td>\n",
       "      <td>1550.000000</td>\n",
       "      <td>1550.000000</td>\n",
       "      <td>NaN</td>\n",
       "      <td>NaN</td>\n",
       "      <td>1.0</td>\n",
       "      <td>http://www.properati.com.ar/1ae5r_venta_depart...</td>\n",
       "      <td>En la zona sur de la ciudad de Ituzaingó a sol...</td>\n",
       "      <td>Excelente departamento de 3 ambientes a estren...</td>\n",
       "      <td>https://thumbs4.properati.com/6/StDVnqSTFBONCu...</td>\n",
       "    </tr>\n",
       "    <tr>\n",
       "      <th>62748</th>\n",
       "      <td>62748</td>\n",
       "      <td>sell</td>\n",
       "      <td>house</td>\n",
       "      <td>Hurlingham</td>\n",
       "      <td>|Argentina|Bs.As. G.B.A. Zona Oeste|Hurlingham|</td>\n",
       "      <td>Argentina</td>\n",
       "      <td>Bs.As. G.B.A. Zona Oeste</td>\n",
       "      <td>3433522.0</td>\n",
       "      <td>-34.628323,-58.621781</td>\n",
       "      <td>-34.628323</td>\n",
       "      <td>...</td>\n",
       "      <td>120.0</td>\n",
       "      <td>NaN</td>\n",
       "      <td>1041.666667</td>\n",
       "      <td>NaN</td>\n",
       "      <td>4.0</td>\n",
       "      <td>NaN</td>\n",
       "      <td>http://www.properati.com.ar/1a7m6_venta_casa_h...</td>\n",
       "      <td>Corredor Responsable: Marcelo Trujillo - CUCIC...</td>\n",
       "      <td>Apto Crédito Casa 4 Amb. Pileta, cochera.</td>\n",
       "      <td>https://thumbs4.properati.com/9/U2kxD3aoZlLt8z...</td>\n",
       "    </tr>\n",
       "    <tr>\n",
       "      <th>35077</th>\n",
       "      <td>35077</td>\n",
       "      <td>sell</td>\n",
       "      <td>apartment</td>\n",
       "      <td>Villa del Parque</td>\n",
       "      <td>|Argentina|Capital Federal|Villa del Parque|</td>\n",
       "      <td>Argentina</td>\n",
       "      <td>Capital Federal</td>\n",
       "      <td>3427455.0</td>\n",
       "      <td>-34.600027,-58.48767</td>\n",
       "      <td>-34.600027</td>\n",
       "      <td>...</td>\n",
       "      <td>93.0</td>\n",
       "      <td>NaN</td>\n",
       "      <td>2129.032258</td>\n",
       "      <td>2.0</td>\n",
       "      <td>4.0</td>\n",
       "      <td>NaN</td>\n",
       "      <td>http://www.properati.com.ar/18dks_venta_depart...</td>\n",
       "      <td>Corredor Responsable: Juan Carlos Treco - CUCI...</td>\n",
       "      <td>Departamento 4 Amb Villa del Parque APTO CREDITO</td>\n",
       "      <td>https://thumbs4.properati.com/5/S-eL3HmGCMUlXV...</td>\n",
       "    </tr>\n",
       "    <tr>\n",
       "      <th>26755</th>\n",
       "      <td>26755</td>\n",
       "      <td>sell</td>\n",
       "      <td>house</td>\n",
       "      <td>Villa Ballester</td>\n",
       "      <td>|Argentina|Bs.As. G.B.A. Zona Norte|General Sa...</td>\n",
       "      <td>Argentina</td>\n",
       "      <td>Bs.As. G.B.A. Zona Norte</td>\n",
       "      <td>3427467.0</td>\n",
       "      <td>NaN</td>\n",
       "      <td>NaN</td>\n",
       "      <td>...</td>\n",
       "      <td>450.0</td>\n",
       "      <td>637.254902</td>\n",
       "      <td>866.666667</td>\n",
       "      <td>NaN</td>\n",
       "      <td>5.0</td>\n",
       "      <td>NaN</td>\n",
       "      <td>http://www.properati.com.ar/17rg6_venta_casa_g...</td>\n",
       "      <td>AMPLIA CASA 7 AMBIENTES PERFECTA UBICACIN ! PL...</td>\n",
       "      <td>GRAN CASA EN IMPORTANTE LOTE Y EXCELENTE UBICA...</td>\n",
       "      <td>https://thumbs4.properati.com/6/8VV8VNoLcDoJBq...</td>\n",
       "    </tr>\n",
       "    <tr>\n",
       "      <th>99297</th>\n",
       "      <td>99297</td>\n",
       "      <td>sell</td>\n",
       "      <td>apartment</td>\n",
       "      <td>Rosario</td>\n",
       "      <td>|Argentina|Santa Fe|Rosario|</td>\n",
       "      <td>Argentina</td>\n",
       "      <td>Santa Fe</td>\n",
       "      <td>3838574.0</td>\n",
       "      <td>NaN</td>\n",
       "      <td>NaN</td>\n",
       "      <td>...</td>\n",
       "      <td>72.0</td>\n",
       "      <td>NaN</td>\n",
       "      <td>NaN</td>\n",
       "      <td>NaN</td>\n",
       "      <td>NaN</td>\n",
       "      <td>NaN</td>\n",
       "      <td>http://www.properati.com.ar/1bmhd_venta_depart...</td>\n",
       "      <td>Sergio Villella Inmobiliaria presenta departam...</td>\n",
       "      <td>Paraguay 2200 - Venta departamento dos dormito...</td>\n",
       "      <td>https://thumbs4.properati.com/7/iWPHn1KqaYudZs...</td>\n",
       "    </tr>\n",
       "  </tbody>\n",
       "</table>\n",
       "<p>6 rows × 26 columns</p>\n",
       "</div>"
      ],
      "text/plain": [
       "       Unnamed: 0 operation property_type        place_name  \\\n",
       "38920       38920      sell         house             Tigre   \n",
       "66664       66664      sell     apartment         Ituzaingó   \n",
       "62748       62748      sell         house        Hurlingham   \n",
       "35077       35077      sell     apartment  Villa del Parque   \n",
       "26755       26755      sell         house   Villa Ballester   \n",
       "99297       99297      sell     apartment           Rosario   \n",
       "\n",
       "                                 place_with_parent_names country_name  \\\n",
       "38920         |Argentina|Bs.As. G.B.A. Zona Norte|Tigre|    Argentina   \n",
       "66664                   |Argentina|Corrientes|Ituzaingó|    Argentina   \n",
       "62748    |Argentina|Bs.As. G.B.A. Zona Oeste|Hurlingham|    Argentina   \n",
       "35077       |Argentina|Capital Federal|Villa del Parque|    Argentina   \n",
       "26755  |Argentina|Bs.As. G.B.A. Zona Norte|General Sa...    Argentina   \n",
       "99297                       |Argentina|Santa Fe|Rosario|    Argentina   \n",
       "\n",
       "                     state_name  geonames_id                 lat-lon  \\\n",
       "38920  Bs.As. G.B.A. Zona Norte    3427753.0  -34.425087,-58.5796585   \n",
       "66664                Corrientes    3433357.0                     NaN   \n",
       "62748  Bs.As. G.B.A. Zona Oeste    3433522.0   -34.628323,-58.621781   \n",
       "35077           Capital Federal    3427455.0    -34.600027,-58.48767   \n",
       "26755  Bs.As. G.B.A. Zona Norte    3427467.0                     NaN   \n",
       "99297                  Santa Fe    3838574.0                     NaN   \n",
       "\n",
       "             lat  ...  surface_covered_in_m2  price_usd_per_m2 price_per_m2  \\\n",
       "38920 -34.425087  ...                  207.0       1254.980080  1521.739130   \n",
       "66664        NaN  ...                   67.0       1550.000000  1550.000000   \n",
       "62748 -34.628323  ...                  120.0               NaN  1041.666667   \n",
       "35077 -34.600027  ...                   93.0               NaN  2129.032258   \n",
       "26755        NaN  ...                  450.0        637.254902   866.666667   \n",
       "99297        NaN  ...                   72.0               NaN          NaN   \n",
       "\n",
       "       floor  rooms  expenses  \\\n",
       "38920    NaN    NaN       NaN   \n",
       "66664    NaN    NaN       1.0   \n",
       "62748    NaN    4.0       NaN   \n",
       "35077    2.0    4.0       NaN   \n",
       "26755    NaN    5.0       NaN   \n",
       "99297    NaN    NaN       NaN   \n",
       "\n",
       "                                           properati_url  \\\n",
       "38920  http://www.properati.com.ar/18mk1_venta_casa_t...   \n",
       "66664  http://www.properati.com.ar/1ae5r_venta_depart...   \n",
       "62748  http://www.properati.com.ar/1a7m6_venta_casa_h...   \n",
       "35077  http://www.properati.com.ar/18dks_venta_depart...   \n",
       "26755  http://www.properati.com.ar/17rg6_venta_casa_g...   \n",
       "99297  http://www.properati.com.ar/1bmhd_venta_depart...   \n",
       "\n",
       "                                             description  \\\n",
       "38920  MAO.  Casa de estilo racionalista, desarrollad...   \n",
       "66664  En la zona sur de la ciudad de Ituzaingó a sol...   \n",
       "62748  Corredor Responsable: Marcelo Trujillo - CUCIC...   \n",
       "35077  Corredor Responsable: Juan Carlos Treco - CUCI...   \n",
       "26755  AMPLIA CASA 7 AMBIENTES PERFECTA UBICACIN ! PL...   \n",
       "99297  Sergio Villella Inmobiliaria presenta departam...   \n",
       "\n",
       "                                                   title  \\\n",
       "38920  MAO. Muy buena casa en lote interno en el barr...   \n",
       "66664  Excelente departamento de 3 ambientes a estren...   \n",
       "62748          Apto Crédito Casa 4 Amb. Pileta, cochera.   \n",
       "35077   Departamento 4 Amb Villa del Parque APTO CREDITO   \n",
       "26755  GRAN CASA EN IMPORTANTE LOTE Y EXCELENTE UBICA...   \n",
       "99297  Paraguay 2200 - Venta departamento dos dormito...   \n",
       "\n",
       "                                         image_thumbnail  \n",
       "38920  https://thumbs4.properati.com/5/Z1HKMxpnKRewTh...  \n",
       "66664  https://thumbs4.properati.com/6/StDVnqSTFBONCu...  \n",
       "62748  https://thumbs4.properati.com/9/U2kxD3aoZlLt8z...  \n",
       "35077  https://thumbs4.properati.com/5/S-eL3HmGCMUlXV...  \n",
       "26755  https://thumbs4.properati.com/6/8VV8VNoLcDoJBq...  \n",
       "99297  https://thumbs4.properati.com/7/iWPHn1KqaYudZs...  \n",
       "\n",
       "[6 rows x 26 columns]"
      ]
     },
     "metadata": {},
     "output_type": "display_data"
    },
    {
     "name": "stdout",
     "output_type": "stream",
     "text": [
      "(Cantidad de Filas, Cantidad de columnas) -> (121220, 26)\n"
     ]
    }
   ],
   "source": [
    "# Abrimos el dataset y hacemos un chequeo rápido para saber cantidad de registros y miramos la composición del mismo.\n",
    "filename = \"../dataset/properati.csv\"\n",
    "data = pd.read_csv(filename, on_bad_lines='skip')\n",
    "display(data.sample(n=6)) \n",
    "print(f\"(Cantidad de Filas, Cantidad de columnas) -> {data.shape}\")"
   ]
  },
  {
   "cell_type": "markdown",
   "metadata": {},
   "source": [
    "# TODO \n",
    "completar análisis de columnas: que columnas hay y que significan cada una.\n"
   ]
  },
  {
   "cell_type": "markdown",
   "metadata": {},
   "source": [
    "Analizamos contenido de las columnas que creemos que pueden eliminarse."
   ]
  },
  {
   "cell_type": "code",
   "execution_count": 15,
   "metadata": {},
   "outputs": [
    {
     "name": "stdout",
     "output_type": "stream",
     "text": [
      "Cantidad de registros con NaN: 0\n",
      "Contamos cantidad de registros unicos:\n",
      "  operation   count\n",
      "0      sell  121220\n"
     ]
    }
   ],
   "source": [
    "# Columna operation: revisamos que opciones tiene, o si se repite lo mismo.\n",
    "print(f'Cantidad de registros con NaN: {data.operation.isnull().sum()}')\n",
    "print(\"Contamos cantidad de registros unicos:\")\n",
    "print(data.groupby(['operation']).size().reset_index(name='count'))\n"
   ]
  },
  {
   "cell_type": "markdown",
   "metadata": {},
   "source": [
    "Detalle de análisis de columnas:\n",
    "* `operation` -> Vemos que no tiene NaNs y solo tiene la opción `sell`. Por este motivo la vamos a eliminar.\n"
   ]
  },
  {
   "cell_type": "code",
   "execution_count": 26,
   "metadata": {},
   "outputs": [
    {
     "name": "stdout",
     "output_type": "stream",
     "text": [
      "Cantidad de registros con NaN: 0\n",
      "Contamos cantidad de registros unicos:\n",
      "  country_name   count\n",
      "0    Argentina  121220\n"
     ]
    }
   ],
   "source": [
    "# Columna operation: revisamos que opciones tiene, o si se repite lo mismo.\n",
    "print(f'Cantidad de registros con NaN: {data.country_name.isnull().sum()}')\n",
    "print(\"Contamos cantidad de registros unicos:\")\n",
    "print(data.groupby(['country_name']).size().reset_index(name='count'))"
   ]
  },
  {
   "cell_type": "code",
   "execution_count": 28,
   "metadata": {},
   "outputs": [
    {
     "name": "stdout",
     "output_type": "stream",
     "text": [
      "Cantidad de registros con NaN: 0\n",
      "Contamos cantidad de registros unicos:\n",
      "                      state_name  count\n",
      "0       Bs.As. G.B.A. Zona Norte  25560\n",
      "1       Bs.As. G.B.A. Zona Oeste   9322\n",
      "2         Bs.As. G.B.A. Zona Sur  13952\n",
      "3   Buenos Aires Costa Atlántica  10006\n",
      "4          Buenos Aires Interior   2291\n",
      "5                Capital Federal  32316\n",
      "6                      Catamarca     27\n",
      "7                          Chaco     57\n",
      "8                         Chubut    259\n",
      "9                     Corrientes    583\n",
      "10                       Córdoba  12069\n",
      "11                    Entre Ríos    369\n",
      "12                       Formosa     65\n",
      "13                         Jujuy     26\n",
      "14                      La Pampa    157\n",
      "15                      La Rioja      4\n",
      "16                       Mendoza    681\n",
      "17                      Misiones    464\n",
      "18                       Neuquén    733\n",
      "19                     Río Negro    808\n",
      "20                         Salta    278\n",
      "21                      San Juan     40\n",
      "22                      San Luis    252\n",
      "23                    Santa Cruz     20\n",
      "24                      Santa Fe  10172\n",
      "25           Santiago Del Estero      4\n",
      "26              Tierra Del Fuego     31\n",
      "27                       Tucumán    674\n"
     ]
    }
   ],
   "source": [
    "# Columna operation: revisamos que opciones tiene, o si se repite lo mismo.\n",
    "print(f'Cantidad de registros con NaN: {data.state_name.isnull().sum()}')\n",
    "print(\"Contamos cantidad de registros unicos:\")\n",
    "print(data.groupby(['state_name']).size().reset_index(name='count'))\n"
   ]
  },
  {
   "cell_type": "code",
   "execution_count": 27,
   "metadata": {},
   "outputs": [
    {
     "name": "stdout",
     "output_type": "stream",
     "text": [
      "Cantidad de registros con NaN: 23\n",
      "Contamos cantidad de registros unicos:\n",
      "                   place_name  count\n",
      "0      Country Maschwitz Club      3\n",
      "1                  los alamos      1\n",
      "2                  9 de Abril      3\n",
      "3                      Abasto    139\n",
      "4         Abril Club de Campo     19\n",
      "...                       ...    ...\n",
      "1055              Yerba Buena    191\n",
      "1056                   Zelaya      7\n",
      "1057                   Zárate     15\n",
      "1058    coordenadas 34.255511      1\n",
      "1059                  Álvarez      1\n",
      "\n",
      "[1060 rows x 2 columns]\n"
     ]
    }
   ],
   "source": [
    "# Columna operation: revisamos que opciones tiene, o si se repite lo mismo.\n",
    "print(f'Cantidad de registros con NaN: {data.place_name.isnull().sum()}')\n",
    "print(\"Contamos cantidad de registros unicos:\")\n",
    "print(data.groupby(['place_name']).size().reset_index(name='count'))\n"
   ]
  },
  {
   "cell_type": "markdown",
   "metadata": {},
   "source": [
    "Detalle de análisis de columnas:\n",
    "* Podemos ver que las columnas `country_name`, `state_name` y `place_name` son equivalentes a `place_with_parent_names`. La columna place_name presenta 23 NaNs los cuales podemos obtener de place_with_parent_names ya que la misma esta completa sin presencia de NaNs, es por ello que decidimos eliminar las columnas individuales y quedarnos con el conjunto `place_with_parent_names`."
   ]
  },
  {
   "cell_type": "code",
   "execution_count": 18,
   "metadata": {},
   "outputs": [
    {
     "name": "stdout",
     "output_type": "stream",
     "text": [
      "Cantidad de registros con NaN: 18717\n",
      "Contamos cantidad de registros unicos:\n",
      "     geonames_id  count\n",
      "0      3427208.0      7\n",
      "1      3427212.0      8\n",
      "2      3427326.0    139\n",
      "3      3427354.0     41\n",
      "4      3427366.0     15\n",
      "..           ...    ...\n",
      "641    6693230.0     57\n",
      "642    6942538.0     17\n",
      "643    6942539.0     15\n",
      "644    6942842.0      2\n",
      "645    6948895.0      2\n",
      "\n",
      "[646 rows x 2 columns]\n"
     ]
    }
   ],
   "source": [
    "# Columna operation: revisamos que opciones tiene, o si se repite lo mismo.\n",
    "print(f'Cantidad de registros con NaN: {data.geonames_id.isnull().sum()}')\n",
    "print(\"Contamos cantidad de registros unicos:\")\n",
    "print(data.groupby(['geonames_id']).size().reset_index(name='count'))\n"
   ]
  },
  {
   "cell_type": "markdown",
   "metadata": {},
   "source": [
    "Detalle de análisis de columnas:\n",
    "* `geonames_id` -> Vemos que tiene un 15.44% de NaNs. No se a que hacen referencia los valores de esta columna.\n",
    "* `lat-lon` es el conjunto de las columnas `lat` y `lon` -> Vemos que las tres tienen un 42,52% de NaNs. Representan la latitud y la longitud de la localidad de la propiedad, es por ello que decidimos eliminar la columna `lat-lon` y quedarnos con x e y.  \n",
    "\n",
    "CONSULTA: en realidad no se si deberiamos eliminar lat-lon ya que podriamos hacer un grafico de dispersion con el fondo del mapa de ARG para ver cuan distribuido estan las propiedades o podemos representar esto y dsp eliminarlo? \n"
   ]
  },
  {
   "cell_type": "markdown",
   "metadata": {},
   "source": [
    "# Porcentaje de valores nulos"
   ]
  },
  {
   "cell_type": "code",
   "execution_count": null,
   "metadata": {},
   "outputs": [
    {
     "data": {
      "text/plain": [
       "Unnamed: 0                     0.000000\n",
       "operation                      0.000000\n",
       "property_type                  0.000000\n",
       "place_name                     0.018974\n",
       "place_with_parent_names        0.000000\n",
       "country_name                   0.000000\n",
       "state_name                     0.000000\n",
       "geonames_id                   15.440521\n",
       "lat-lon                       42.525986\n",
       "lat                           42.525986\n",
       "lon                           42.525986\n",
       "price                         16.837156\n",
       "currency                      16.837981\n",
       "price_aprox_local_currency    16.837156\n",
       "price_aprox_usd               16.837156\n",
       "surface_total_in_m2           32.443491\n",
       "surface_covered_in_m2         16.422208\n",
       "price_usd_per_m2              43.394654\n",
       "price_per_m2                  27.686850\n",
       "floor                         93.483749\n",
       "rooms                         60.905791\n",
       "expenses                      88.234615\n",
       "properati_url                  0.000000\n",
       "description                    0.001650\n",
       "title                          0.000000\n",
       "image_thumbnail                2.567233\n",
       "dtype: float64"
      ]
     },
     "execution_count": 23,
     "metadata": {},
     "output_type": "execute_result"
    }
   ],
   "source": [
    "data.isnull().mean()*100"
   ]
  }
 ],
 "metadata": {
  "kernelspec": {
   "display_name": "Python 3.9.12 ('base')",
   "language": "python",
   "name": "python3"
  },
  "language_info": {
   "codemirror_mode": {
    "name": "ipython",
    "version": 3
   },
   "file_extension": ".py",
   "mimetype": "text/x-python",
   "name": "python",
   "nbconvert_exporter": "python",
   "pygments_lexer": "ipython3",
   "version": "3.9.12"
  },
  "vscode": {
   "interpreter": {
    "hash": "b2a747836dbd3d24a41a2e0f1be3b2e08d73c43f6ab8cf54c59a433ce2434b74"
   }
  }
 },
 "nbformat": 4,
 "nbformat_minor": 4
}
